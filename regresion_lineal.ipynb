{
 "cells": [
  {
   "cell_type": "markdown",
   "id": "93964bb2-7d3e-4464-b66e-bfd13f02cb93",
   "metadata": {},
   "source": [
    "# Regresión Lineal"
   ]
  },
  {
   "cell_type": "markdown",
   "id": "aca74eb1-6fbb-4162-b964-656e425adfe7",
   "metadata": {},
   "source": [
    "**Daremos paso a paso** el algoritmo de regresión lineal.\n",
    "Primero debemos tener unos datos que se comporten de manera lineal.\n",
    "\n",
    "Usaremos data de grados celsius como entrada y grados fahrenheit como salida\n",
    "\n",
    "Recordemos que la fórmula de Celsius a Fahrenheit es:\n",
    "$$°F = \\frac{9}{5} * °C + 32$$\n",
    "\n",
    "1) Se hace el forward progagation con la fórmula de regresión lineal:\n",
    "\n",
    "$$\\hat{y}^{(i)} = w^T x^{(i)} + b $$\n",
    "\n",
    "2) Luego se usa la fórmula de error cuadrático medio para medir el error: $$\\begin{align*} & MSE = \\frac{1}{m}\\sum_{i=1}^{m}(y^{(i)} - \\hat{y}^{(i)})^2 \\end{align*}$$ es útil para darnos una idea de cuán alejados están los puntos de la línea que busca predecir los datos de salida. Nos ayuda a medir qué tan buena es la pareja de peso e intercepto.\n",
    "\n",
    "\n",
    "\n",
    "3) Los pesos y sesgos deben actualizarse, cambiar, para cada vez predecir de mejor manera los datos. $${w = w - \\alpha * \\frac{\\partial_J}{\\partial w}}$$\n",
    "$${b = b - \\alpha * \\frac{\\partial_J}{\\partial b}}$$ Se usa el método del descenso del gradiente. Este usa derivadas para darle mayor o menor cambio al peso y al sesgo siempre que estén influyendo en que se esté produciendo un error. Se calcula la derivada de la función de error J(w):$$J(w) = \\frac{1}{m}\\sum_{i=1}^{m}({y_{i}-b-wx_{i}})^2$$ Miremos la derivada respecto al peso: $${\\frac{\\partial J}{\\partial w}} = -2*\\frac{1}{m}\\sum_{i=1}^{m}({y_{i}-b-wx_{i}})x_{i}$$ y respecto al sesgo o intercepto: $${\\frac{\\partial J}{\\partial b}} = -2*\\frac{1}{m}\\sum_{i=1}^{m}({y_{i}-b-wx_{i}})$$ Entonces la cantidad que tienen que disminuir el peso y el sesgo es:\n",
    "$$\n",
    "{\\frac{\\partial J}{\\partial w}} = w + \\alpha*2*\\frac{1}{m}\\sum_{i=1}^{m}({y_{i}-b-wx_{i}})x_{i}\\\\{\\frac{\\partial J}{\\partial b}} = b + \\alpha*2*\\frac{1}{m}\\sum_{i=1}^{m}({y_{i}-b-wx_{i}})\\\\\n",
    "{w = w + \\alpha * \\frac{\\partial_J}{\\partial w}}\\\\\n",
    "{b = b + \\alpha * \\frac{\\partial_J}{\\partial b}}$$\n",
    "\n",
    "\n",
    "Donde alfa es la tasa de aprendizaje, también conocido como el learning rate, esto sería la magnitud de los pasos que daría el algoritmo cada vez que va disminuyendo el error, o dicho de otra forma, al ir bajando las montañas del error."
   ]
  },
  {
   "cell_type": "markdown",
   "id": "63af0fe5-fb27-47fe-8fb6-e56da51a4f00",
   "metadata": {},
   "source": [
    "No siendo más, creemos las funciones"
   ]
  },
  {
   "cell_type": "code",
   "execution_count": 3,
   "id": "2d4859de-b4ff-4e2f-b6cf-5871659aa749",
   "metadata": {},
   "outputs": [],
   "source": [
    "import numpy as np"
   ]
  },
  {
   "cell_type": "markdown",
   "id": "d949e6fa-678e-46d0-acc9-74d9ac712710",
   "metadata": {
    "tags": []
   },
   "source": [
    "## Forward Propagation\n",
    "$$\\hat{y}^{(i)} = w^T X^{(i)} + b$$"
   ]
  },
  {
   "cell_type": "code",
   "execution_count": 4,
   "id": "4c7bdd0a-2602-46a7-a7fd-5bb9b0b29c78",
   "metadata": {},
   "outputs": [],
   "source": [
    "def forward_propagation(w, X, b):\n",
    "    #print(w.shape, X.shape)\n",
    "    return np.dot(w, X) + b"
   ]
  },
  {
   "cell_type": "markdown",
   "id": "acaa4d62-6198-43eb-a58f-8ef1741fef4f",
   "metadata": {},
   "source": [
    "## Mean Squared Error\n",
    "$$\\begin{align*} & MSE = \\frac{1}{m}\\sum_{i=1}^{m}(y^{(i)} - \\hat{y}^{(i)})^2 \\end{align*}$$"
   ]
  },
  {
   "cell_type": "code",
   "execution_count": 5,
   "id": "71c1d1b3-ccf4-41af-8281-ae805f27c339",
   "metadata": {},
   "outputs": [],
   "source": [
    "def mean_squared_error(y, y_hat):\n",
    "    return np.mean(np.square(np.subtract(y, y_hat)))"
   ]
  },
  {
   "cell_type": "markdown",
   "id": "8850de69-fd99-4434-9fdd-5766f39f5015",
   "metadata": {
    "tags": []
   },
   "source": [
    "## Actualización de pesos por el descenso del gradiente\n",
    "$${\\frac{\\partial J}{\\partial w}} = w + \\alpha*2*\\frac{1}{m}\\sum_{i=1}^{m}({y_{i}-b-wx_{i}})x_{i}\\\\{\\frac{\\partial J}{\\partial b}} = b + \\alpha*2*\\frac{1}{m}\\sum_{i=1}^{m}({y_{i}-b-wx_{i}})$$"
   ]
  },
  {
   "cell_type": "code",
   "execution_count": 41,
   "id": "b63445ce-373b-4d4a-9a89-c0a8703fc8a9",
   "metadata": {},
   "outputs": [],
   "source": [
    "def actualize_weights(learning_rate, w, b, X, error, m):\n",
    "    w = w + learning_rate*2*np.matmul(X.T, error.mean())\n",
    "    b = b + learning_rate*2*(error.mean())\n",
    "    return w, b"
   ]
  },
  {
   "cell_type": "markdown",
   "id": "c876e470-1b49-4d4a-b452-5743b2018b3c",
   "metadata": {},
   "source": [
    "## Normalización"
   ]
  },
  {
   "cell_type": "code",
   "execution_count": 42,
   "id": "6c45df8b-445c-4298-83f8-ae95a4efb1cb",
   "metadata": {},
   "outputs": [],
   "source": [
    "def normalize(x, y):\n",
    "    x = (np.subtract(x,x.mean()))/x.std()\n",
    "    y = (np.subtract(y,y.mean()))/y.std()\n",
    "    return x, y"
   ]
  },
  {
   "cell_type": "markdown",
   "id": "4580e400-16c4-4497-a997-dfd78eff157c",
   "metadata": {},
   "source": [
    "## Entrenar modelo"
   ]
  },
  {
   "cell_type": "code",
   "execution_count": 43,
   "id": "7af5a33d-b10e-4344-9791-61f9b35009eb",
   "metadata": {},
   "outputs": [],
   "source": [
    "def train(X, y, epochs, learning_rate):\n",
    "    w = random()\n",
    "    b = random()\n",
    "    print(w, b)\n",
    "    cost_value = []\n",
    "    m = X.shape[0]\n",
    "    for i in range(epochs):\n",
    "        y_hat = forward_propagation(w, X, b)\n",
    "        cost = mean_squared_error(y, y_hat)\n",
    "        error = np.subtract(y, y_hat)\n",
    "        w, b = actualize_weights(learning_rate, w, b, X, error, m)\n",
    "        #print(w.shape, b)\n",
    "        cost_value.append(cost)\n",
    "        print(\"Epoch:\", str(i+1), \"\\n\", \"mse_loss_value:\", cost_value[-1])\n",
    "    return w, b, cost_value"
   ]
  },
  {
   "cell_type": "code",
   "execution_count": 44,
   "id": "cba1c3a1-91f5-4cc5-856e-d1af3322c792",
   "metadata": {},
   "outputs": [],
   "source": [
    "celsius = np.array([-40, -15, -10, -2, 0, 5, 12, 22, 34, 55, 69, 90], dtype='float')\n",
    "fahrenheit = celsius*9/5 + 32"
   ]
  },
  {
   "cell_type": "code",
   "execution_count": 45,
   "id": "2105f375-bbf9-41aa-822c-146752f2e4c7",
   "metadata": {},
   "outputs": [
    {
     "name": "stdout",
     "output_type": "stream",
     "text": [
      "[-40. -15. -10.  -2.   0.   5.  12.  22.  34.  55.  69.  90.] [-40.    5.   14.   28.4  32.   41.   53.6  71.6  93.2 131.  156.2 194. ]\n"
     ]
    }
   ],
   "source": [
    "print(celsius, fahrenheit)"
   ]
  },
  {
   "cell_type": "code",
   "execution_count": 46,
   "id": "8069c092-d3b9-4660-9269-794256a4c3ed",
   "metadata": {},
   "outputs": [
    {
     "name": "stdout",
     "output_type": "stream",
     "text": [
      "(12,) (12,)\n"
     ]
    }
   ],
   "source": [
    "print(celsius.shape, fahrenheit.shape)"
   ]
  },
  {
   "cell_type": "code",
   "execution_count": 47,
   "id": "5b589d6b-2af2-4906-980d-9cf712868f31",
   "metadata": {},
   "outputs": [
    {
     "name": "stdout",
     "output_type": "stream",
     "text": [
      "(12, 1) (12, 1)\n"
     ]
    }
   ],
   "source": [
    "celsius, fahrenheit = normalize(celsius, fahrenheit)\n",
    "celsius = celsius.reshape(celsius.shape[0], 1)\n",
    "fahrenheit= fahrenheit.reshape(fahrenheit.shape[0], 1)\n",
    "print(celsius.shape, fahrenheit.shape)"
   ]
  },
  {
   "cell_type": "code",
   "execution_count": 48,
   "id": "f5968a04-f59a-4368-98f5-24f2de1fa74a",
   "metadata": {},
   "outputs": [
    {
     "name": "stdout",
     "output_type": "stream",
     "text": [
      "0.43770752444109884 0.805335150724774\n"
     ]
    },
    {
     "ename": "ValueError",
     "evalue": "matmul: Input operand 1 does not have enough dimensions (has 0, gufunc core with signature (n?,k),(k,m?)->(n?,m?) requires 1)",
     "output_type": "error",
     "traceback": [
      "\u001b[1;31m---------------------------------------------------------------------------\u001b[0m",
      "\u001b[1;31mValueError\u001b[0m                                Traceback (most recent call last)",
      "Input \u001b[1;32mIn [48]\u001b[0m, in \u001b[0;36m<cell line: 1>\u001b[1;34m()\u001b[0m\n\u001b[1;32m----> 1\u001b[0m w, b, costos \u001b[38;5;241m=\u001b[39m \u001b[43mtrain\u001b[49m\u001b[43m(\u001b[49m\u001b[43mcelsius\u001b[49m\u001b[43m,\u001b[49m\u001b[43m \u001b[49m\u001b[43mfahrenheit\u001b[49m\u001b[43m,\u001b[49m\u001b[43m \u001b[49m\u001b[38;5;241;43m300\u001b[39;49m\u001b[43m,\u001b[49m\u001b[43m \u001b[49m\u001b[38;5;241;43m0.005\u001b[39;49m\u001b[43m)\u001b[49m\n",
      "Input \u001b[1;32mIn [43]\u001b[0m, in \u001b[0;36mtrain\u001b[1;34m(X, y, epochs, learning_rate)\u001b[0m\n\u001b[0;32m      9\u001b[0m cost \u001b[38;5;241m=\u001b[39m mean_squared_error(y, y_hat)\n\u001b[0;32m     10\u001b[0m error \u001b[38;5;241m=\u001b[39m np\u001b[38;5;241m.\u001b[39msubtract(y, y_hat)\n\u001b[1;32m---> 11\u001b[0m w, b \u001b[38;5;241m=\u001b[39m \u001b[43mactualize_weights\u001b[49m\u001b[43m(\u001b[49m\u001b[43mlearning_rate\u001b[49m\u001b[43m,\u001b[49m\u001b[43m \u001b[49m\u001b[43mw\u001b[49m\u001b[43m,\u001b[49m\u001b[43m \u001b[49m\u001b[43mb\u001b[49m\u001b[43m,\u001b[49m\u001b[43m \u001b[49m\u001b[43mX\u001b[49m\u001b[43m,\u001b[49m\u001b[43m \u001b[49m\u001b[43merror\u001b[49m\u001b[43m,\u001b[49m\u001b[43m \u001b[49m\u001b[43mm\u001b[49m\u001b[43m)\u001b[49m\n\u001b[0;32m     12\u001b[0m \u001b[38;5;66;03m#print(w.shape, b)\u001b[39;00m\n\u001b[0;32m     13\u001b[0m cost_value\u001b[38;5;241m.\u001b[39mappend(cost)\n",
      "Input \u001b[1;32mIn [41]\u001b[0m, in \u001b[0;36mactualize_weights\u001b[1;34m(learning_rate, w, b, X, error, m)\u001b[0m\n\u001b[0;32m      1\u001b[0m \u001b[38;5;28;01mdef\u001b[39;00m \u001b[38;5;21mactualize_weights\u001b[39m(learning_rate, w, b, X, error, m):\n\u001b[1;32m----> 2\u001b[0m     w \u001b[38;5;241m=\u001b[39m w \u001b[38;5;241m+\u001b[39m learning_rate\u001b[38;5;241m*\u001b[39m\u001b[38;5;241m2\u001b[39m\u001b[38;5;241m*\u001b[39m\u001b[43mnp\u001b[49m\u001b[38;5;241;43m.\u001b[39;49m\u001b[43mmatmul\u001b[49m\u001b[43m(\u001b[49m\u001b[43mX\u001b[49m\u001b[38;5;241;43m.\u001b[39;49m\u001b[43mT\u001b[49m\u001b[43m,\u001b[49m\u001b[43m \u001b[49m\u001b[43merror\u001b[49m\u001b[38;5;241;43m.\u001b[39;49m\u001b[43mmean\u001b[49m\u001b[43m(\u001b[49m\u001b[43m)\u001b[49m\u001b[43m)\u001b[49m\n\u001b[0;32m      3\u001b[0m     b \u001b[38;5;241m=\u001b[39m b \u001b[38;5;241m+\u001b[39m learning_rate\u001b[38;5;241m*\u001b[39m\u001b[38;5;241m2\u001b[39m\u001b[38;5;241m*\u001b[39m(error\u001b[38;5;241m.\u001b[39mmean())\n\u001b[0;32m      4\u001b[0m     \u001b[38;5;28;01mreturn\u001b[39;00m w, b\n",
      "\u001b[1;31mValueError\u001b[0m: matmul: Input operand 1 does not have enough dimensions (has 0, gufunc core with signature (n?,k),(k,m?)->(n?,m?) requires 1)"
     ]
    }
   ],
   "source": [
    "w, b, costos = train(celsius, fahrenheit, 300, 0.005)"
   ]
  },
  {
   "cell_type": "code",
   "execution_count": 40,
   "id": "a1931cef-630c-4b81-b649-6110e0df50cf",
   "metadata": {},
   "outputs": [
    {
     "name": "stdout",
     "output_type": "stream",
     "text": [
      "(1, 12)\n",
      "0.5504845753450817\n",
      "0.9999999999999999\n"
     ]
    }
   ],
   "source": [
    "print(w.shape)\n",
    "print(b)\n",
    "print(costos[-1])"
   ]
  },
  {
   "cell_type": "code",
   "execution_count": 17,
   "id": "cba35e2c-cb9c-4b16-9a2a-4164b6963f44",
   "metadata": {},
   "outputs": [
    {
     "data": {
      "text/plain": [
       "(6,)"
      ]
     },
     "execution_count": 17,
     "metadata": {},
     "output_type": "execute_result"
    }
   ],
   "source": [
    "(np.array([0.6, 0.6, 0.6, 1.2, 1.2, 1.2]) + np.array([3])).shape"
   ]
  },
  {
   "cell_type": "code",
   "execution_count": 18,
   "id": "0435a868-c608-4bac-98ac-5cd1140df72c",
   "metadata": {},
   "outputs": [
    {
     "data": {
      "text/plain": [
       "1.2"
      ]
     },
     "execution_count": 18,
     "metadata": {},
     "output_type": "execute_result"
    }
   ],
   "source": [
    "np.array([0.6, 0.6, 0.6, 1.2, 1.2, 1.2])[-1]"
   ]
  },
  {
   "cell_type": "code",
   "execution_count": 19,
   "id": "ab63b3d9-603f-47e6-bcf3-d8faf95938c2",
   "metadata": {},
   "outputs": [
    {
     "name": "stdout",
     "output_type": "stream",
     "text": [
      "[[-0.70917988]\n",
      " [-0.36238851]\n",
      " [-0.29303023]\n",
      " [-0.18205699]\n",
      " [-0.15431368]\n",
      " [-0.0849554 ]\n",
      " [ 0.01214618]\n",
      " [ 0.15086274]\n",
      " [ 0.3173226 ]\n",
      " [ 0.60862736]\n",
      " [ 0.80283053]\n",
      " [ 1.09413529]]\n"
     ]
    },
    {
     "ename": "ValueError",
     "evalue": "shapes (12,1) and (12,1) not aligned: 1 (dim 1) != 12 (dim 0)",
     "output_type": "error",
     "traceback": [
      "\u001b[1;31m---------------------------------------------------------------------------\u001b[0m",
      "\u001b[1;31mValueError\u001b[0m                                Traceback (most recent call last)",
      "Input \u001b[1;32mIn [19]\u001b[0m, in \u001b[0;36m<cell line: 30>\u001b[1;34m()\u001b[0m\n\u001b[0;32m     26\u001b[0m \u001b[38;5;66;03m#celsius.resize((len(celsius),1))\u001b[39;00m\n\u001b[0;32m     27\u001b[0m \u001b[38;5;66;03m#fahrenheit.resize(len(fahrenheit),1)\u001b[39;00m\n\u001b[0;32m     29\u001b[0m w \u001b[38;5;241m=\u001b[39m [\u001b[38;5;241m0.1\u001b[39m, \u001b[38;5;241m0.5\u001b[39m]\n\u001b[1;32m---> 30\u001b[0m w, costos \u001b[38;5;241m=\u001b[39m \u001b[43mentrenar\u001b[49m\u001b[43m(\u001b[49m\u001b[43mcelsius\u001b[49m\u001b[43m,\u001b[49m\u001b[43m \u001b[49m\u001b[43mfahrenheit\u001b[49m\u001b[43m,\u001b[49m\u001b[43m \u001b[49m\u001b[43mw\u001b[49m\u001b[43m,\u001b[49m\u001b[43m \u001b[49m\u001b[38;5;241;43m100\u001b[39;49m\u001b[43m,\u001b[49m\u001b[43m \u001b[49m\u001b[38;5;241;43m0.001\u001b[39;49m\u001b[43m)\u001b[49m\n\u001b[0;32m     31\u001b[0m \u001b[38;5;28mprint\u001b[39m(\u001b[38;5;124m'\u001b[39m\u001b[38;5;124mw0:\u001b[39m\u001b[38;5;124m'\u001b[39m, w[\u001b[38;5;241m0\u001b[39m])\n\u001b[0;32m     32\u001b[0m \u001b[38;5;28mprint\u001b[39m(\u001b[38;5;124m'\u001b[39m\u001b[38;5;124mw1:\u001b[39m\u001b[38;5;124m'\u001b[39m, w[\u001b[38;5;241m1\u001b[39m:])\n",
      "Input \u001b[1;32mIn [19]\u001b[0m, in \u001b[0;36mentrenar\u001b[1;34m(x, y, w, epocas, alfa)\u001b[0m\n\u001b[0;32m     18\u001b[0m error \u001b[38;5;241m=\u001b[39m (y \u001b[38;5;241m-\u001b[39m y_hat)\n\u001b[0;32m     19\u001b[0m w[\u001b[38;5;241m0\u001b[39m] \u001b[38;5;241m+\u001b[39m\u001b[38;5;241m=\u001b[39m (\u001b[38;5;241m2\u001b[39m\u001b[38;5;241m*\u001b[39malfa)\u001b[38;5;241m/\u001b[39mm\u001b[38;5;241m*\u001b[39merror\u001b[38;5;241m.\u001b[39msum()\n\u001b[1;32m---> 20\u001b[0m w[\u001b[38;5;241m1\u001b[39m] \u001b[38;5;241m+\u001b[39m\u001b[38;5;241m=\u001b[39m (\u001b[38;5;241m2\u001b[39m\u001b[38;5;241m*\u001b[39malfa)\u001b[38;5;241m/\u001b[39mm\u001b[38;5;241m*\u001b[39m\u001b[43mnp\u001b[49m\u001b[38;5;241;43m.\u001b[39;49m\u001b[43mdot\u001b[49m\u001b[43m(\u001b[49m\u001b[43mx\u001b[49m\u001b[43m,\u001b[49m\u001b[43m \u001b[49m\u001b[43merror\u001b[49m\u001b[43m)\u001b[49m\n\u001b[0;32m     21\u001b[0m costo \u001b[38;5;241m=\u001b[39m calcular_costo(y, y_hat, m)\n\u001b[0;32m     22\u001b[0m costos\u001b[38;5;241m.\u001b[39mappend(costo)\n",
      "File \u001b[1;32m<__array_function__ internals>:5\u001b[0m, in \u001b[0;36mdot\u001b[1;34m(*args, **kwargs)\u001b[0m\n",
      "\u001b[1;31mValueError\u001b[0m: shapes (12,1) and (12,1) not aligned: 1 (dim 1) != 12 (dim 0)"
     ]
    }
   ],
   "source": [
    "def normalizar(x, y):\n",
    "    x = (x.mean()-x)/x.std()\n",
    "    y = (y.mean()-y)/y.std()\n",
    "    return x, y\n",
    "\n",
    "def calcular_prediccion(x,w):\n",
    "    return np.dot(x, w[1]) + w[0]\n",
    "\n",
    "def calcular_costo(y, y_hat, m):\n",
    "    return ((y - y_hat)**2).sum() / m\n",
    "\n",
    "def entrenar(x, y, w, epocas, alfa):\n",
    "    costos = []\n",
    "    m = x.shape[0]\n",
    "    for i in range(epocas):\n",
    "        y_hat = calcular_prediccion(x, w)\n",
    "        print(y_hat)\n",
    "        error = (y - y_hat)\n",
    "        w[0] += (2*alfa)/m*error.sum()\n",
    "        w[1] += (2*alfa)/m*np.dot(x, error)\n",
    "        costo = calcular_costo(y, y_hat, m)\n",
    "        costos.append(costo)\n",
    "    return w, costos\n",
    "    \n",
    "celsius, fahrenheit = normalizar(celsius, fahrenheit)\n",
    "#celsius.resize((len(celsius),1))\n",
    "#fahrenheit.resize(len(fahrenheit),1)\n",
    "\n",
    "w = [0.1, 0.5]\n",
    "w, costos = entrenar(celsius, fahrenheit, w, 100, 0.001)\n",
    "print('w0:', w[0])\n",
    "print('w1:', w[1:])"
   ]
  },
  {
   "cell_type": "code",
   "execution_count": 20,
   "id": "eef84578-ef49-4d4d-a30e-b41409705b72",
   "metadata": {},
   "outputs": [
    {
     "data": {
      "text/plain": [
       "array([-20. ,  -7.5,  -5. ,  -1. ,   0. ,   2.5,   6. ,  11. ,  17. ,\n",
       "        27.5,  34.5,  45. ])"
      ]
     },
     "execution_count": 20,
     "metadata": {},
     "output_type": "execute_result"
    }
   ],
   "source": [
    "np.dot(np.array([-40., -15., -10.,  -2.,   0.,   5.,  12.,  22.,  34.,  55.,  69.,  90.]), np.array(w[1])) #+ w[0]"
   ]
  },
  {
   "cell_type": "code",
   "execution_count": 21,
   "id": "ee77c855-f08a-4eb3-bba6-c71495dfbe60",
   "metadata": {},
   "outputs": [
    {
     "data": {
      "text/plain": [
       "0.5"
      ]
     },
     "execution_count": 21,
     "metadata": {},
     "output_type": "execute_result"
    }
   ],
   "source": [
    "w[1]"
   ]
  },
  {
   "cell_type": "code",
   "execution_count": 24,
   "id": "d1d6dd24-3c6b-4e0e-869a-a4b4668d90ba",
   "metadata": {},
   "outputs": [
    {
     "data": {
      "text/plain": [
       "0.17807778141838057"
      ]
     },
     "execution_count": 24,
     "metadata": {},
     "output_type": "execute_result"
    }
   ],
   "source": [
    "b"
   ]
  },
  {
   "cell_type": "code",
   "execution_count": 25,
   "id": "31c70b19-b610-4974-9500-6e895ef3aff1",
   "metadata": {},
   "outputs": [
    {
     "data": {
      "text/plain": [
       "array([[-0.70937988],\n",
       "       [-0.36258851],\n",
       "       [-0.29323023],\n",
       "       [-0.18225699],\n",
       "       [-0.15451368],\n",
       "       [-0.0851554 ],\n",
       "       [ 0.01194618],\n",
       "       [ 0.15066274],\n",
       "       [ 0.3171226 ],\n",
       "       [ 0.60842736],\n",
       "       [ 0.80263053],\n",
       "       [ 1.09393529]])"
      ]
     },
     "execution_count": 25,
     "metadata": {},
     "output_type": "execute_result"
    }
   ],
   "source": [
    "np.dot(celsius, w[1]) + w[0]"
   ]
  },
  {
   "cell_type": "code",
   "execution_count": 95,
   "id": "ef785775-f33a-4dcb-83f4-b2f9cbc41bc6",
   "metadata": {},
   "outputs": [
    {
     "data": {
      "text/plain": [
       "array([ 1.61835977,  0.92477701,  0.78606046,  0.56411398,  0.50862736,\n",
       "        0.3699108 ,  0.17570763, -0.10172547, -0.4346452 , -1.01725471,\n",
       "       -1.40566106, -1.98827057])"
      ]
     },
     "execution_count": 95,
     "metadata": {},
     "output_type": "execute_result"
    }
   ],
   "source": [
    "celsius"
   ]
  },
  {
   "cell_type": "code",
   "execution_count": 97,
   "id": "5b659829-63c5-4ba9-bcf0-486ad52c9e4e",
   "metadata": {},
   "outputs": [
    {
     "data": {
      "text/plain": [
       "array([[0.],\n",
       "       [0.],\n",
       "       [0.],\n",
       "       [0.]])"
      ]
     },
     "execution_count": 97,
     "metadata": {},
     "output_type": "execute_result"
    }
   ],
   "source": [
    "np.zeros((4, 1))"
   ]
  },
  {
   "cell_type": "code",
   "execution_count": 99,
   "id": "20644a24-5f4d-4551-a5b4-dd03589de899",
   "metadata": {},
   "outputs": [
    {
     "data": {
      "text/plain": [
       "array([[0., 0.],\n",
       "       [0., 0.],\n",
       "       [0., 0.],\n",
       "       [0., 0.],\n",
       "       [0., 0.],\n",
       "       [0., 0.],\n",
       "       [0., 0.],\n",
       "       [0., 0.],\n",
       "       [0., 0.],\n",
       "       [0., 0.]])"
      ]
     },
     "execution_count": 99,
     "metadata": {},
     "output_type": "execute_result"
    }
   ],
   "source": [
    "a = np.zeros((10, 2))\n",
    "\n",
    "# A transpose makes the array non-contiguous\n",
    "b = a.T\n",
    "\n",
    "# Taking a view makes it possible to modify the shape without modifying\n",
    "# the initial object.\n",
    "c = b.view()\n",
    "#c.shape = (20)\n",
    "a"
   ]
  },
  {
   "cell_type": "code",
   "execution_count": 20,
   "id": "d4f536ce-2e75-4675-9419-14eef4b35850",
   "metadata": {},
   "outputs": [],
   "source": [
    "x = np.array([[1.],\n",
    "         [2.],\n",
    "         [3.],\n",
    "         [4.],\n",
    "         [5.],])\n",
    "y = x*1.8 + 32.\n",
    "w = 0.5\n",
    "b = 0.1"
   ]
  },
  {
   "cell_type": "code",
   "execution_count": 23,
   "id": "b02ec1df-7fac-45e8-a26e-070f971068dc",
   "metadata": {},
   "outputs": [
    {
     "data": {
      "text/plain": [
       "(5, 1)"
      ]
     },
     "execution_count": 23,
     "metadata": {},
     "output_type": "execute_result"
    }
   ],
   "source": [
    "x.shape"
   ]
  },
  {
   "cell_type": "code",
   "execution_count": 22,
   "id": "a7040f05-d63a-4c55-9bf8-7c6b46b66e8e",
   "metadata": {},
   "outputs": [
    {
     "data": {
      "text/plain": [
       "(5, 1)"
      ]
     },
     "execution_count": 22,
     "metadata": {},
     "output_type": "execute_result"
    }
   ],
   "source": [
    "(np.dot(x, w) + b).shape"
   ]
  },
  {
   "cell_type": "code",
   "execution_count": 27,
   "id": "3122aa8d-c6b6-43ba-843f-6d3fc026fbdd",
   "metadata": {},
   "outputs": [],
   "source": [
    "x2 = np.array([1., 2., 3., 4., 5.])"
   ]
  },
  {
   "cell_type": "code",
   "execution_count": 32,
   "id": "a73afcd3-4965-4af9-abf4-47195ed535df",
   "metadata": {},
   "outputs": [
    {
     "data": {
      "text/plain": [
       "array([[1.],\n",
       "       [2.],\n",
       "       [3.],\n",
       "       [4.],\n",
       "       [5.]])"
      ]
     },
     "execution_count": 32,
     "metadata": {},
     "output_type": "execute_result"
    }
   ],
   "source": [
    "x2.reshape(x2.shape[0], 1)"
   ]
  },
  {
   "cell_type": "code",
   "execution_count": 45,
   "id": "79c9acaf-5ef1-4271-9dcb-9e6d5a354ed3",
   "metadata": {},
   "outputs": [
    {
     "data": {
      "text/plain": [
       "array([[0.5],\n",
       "       [1.5],\n",
       "       [2.5],\n",
       "       [3.5],\n",
       "       [4.5]])"
      ]
     },
     "execution_count": 45,
     "metadata": {},
     "output_type": "execute_result"
    }
   ],
   "source": [
    "x2 = x2.reshape(x2.shape[0], 1)\n",
    "x2 - np.array([[0.5],\n",
    "       [0.5],\n",
    "       [0.5],\n",
    "       [0.5],\n",
    "       [0.5]])"
   ]
  },
  {
   "cell_type": "code",
   "execution_count": 64,
   "id": "c47d6017-fb49-4e40-a8a8-21db0f530253",
   "metadata": {},
   "outputs": [
    {
     "data": {
      "text/plain": [
       "array([ 5., 10., 15., 20., 25.])"
      ]
     },
     "execution_count": 64,
     "metadata": {},
     "output_type": "execute_result"
    }
   ],
   "source": [
    "np.dot(x2, np.array([5]))"
   ]
  },
  {
   "cell_type": "code",
   "execution_count": null,
   "id": "02010f1f-4031-4083-8e7e-01faafe8058a",
   "metadata": {},
   "outputs": [],
   "source": []
  }
 ],
 "metadata": {
  "kernelspec": {
   "display_name": "Python 3 (ipykernel)",
   "language": "python",
   "name": "python3"
  },
  "language_info": {
   "codemirror_mode": {
    "name": "ipython",
    "version": 3
   },
   "file_extension": ".py",
   "mimetype": "text/x-python",
   "name": "python",
   "nbconvert_exporter": "python",
   "pygments_lexer": "ipython3",
   "version": "3.9.12"
  }
 },
 "nbformat": 4,
 "nbformat_minor": 5
}
